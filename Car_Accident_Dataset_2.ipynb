{
  "nbformat": 4,
  "nbformat_minor": 0,
  "metadata": {
    "colab": {
      "provenance": [],
      "mount_file_id": "1NaDQMxDhJ3pjoJnWdi7uJX3QmqNEoKR_",
      "authorship_tag": "ABX9TyO+ykzgsZjxQEq/GFVGAZeF",
      "include_colab_link": true
    },
    "kernelspec": {
      "name": "python3",
      "display_name": "Python 3"
    },
    "language_info": {
      "name": "python"
    }
  },
  "cells": [
    {
      "cell_type": "markdown",
      "metadata": {
        "id": "view-in-github",
        "colab_type": "text"
      },
      "source": [
        "<a href=\"https://colab.research.google.com/github/Anza2222/PPADB-Car-Accident-Dataset/blob/main/Car_Accident_Dataset_2.ipynb\" target=\"_parent\"><img src=\"https://colab.research.google.com/assets/colab-badge.svg\" alt=\"Open In Colab\"/></a>"
      ]
    },
    {
      "cell_type": "markdown",
      "source": [
        "#**ANALISIS TINGKAT KECELAKAAN PADA TAHUN 2021 DI DAERAH PERKOTAAN**"
      ],
      "metadata": {
        "id": "bdz38X1yC3-T"
      }
    },
    {
      "cell_type": "markdown",
      "source": [
        "#**IMPORT LIBRARY**"
      ],
      "metadata": {
        "id": "-S5DC0NbNJNJ"
      }
    },
    {
      "cell_type": "code",
      "source": [
        "import pandas as pd\n",
        "import seaborn as sns\n",
        "import matplotlib.pyplot as plt\n",
        "import plotly.express as px\n",
        "import numpy as np\n",
        "from google.colab import drive"
      ],
      "metadata": {
        "id": "lgKY3cLyqXZw"
      },
      "execution_count": 1,
      "outputs": []
    },
    {
      "cell_type": "markdown",
      "source": [
        "# **BUSINESS UNDERSTANDING**"
      ],
      "metadata": {
        "id": "o3cmzO5RDFFj"
      }
    },
    {
      "cell_type": "markdown",
      "source": [
        "##**Business Objective**"
      ],
      "metadata": {
        "id": "LcWYxd0M5eFF"
      }
    },
    {
      "cell_type": "markdown",
      "source": [
        "Tujuan bisnis dari dataset ini adalah untuk secara menyeluruh menggali dan memahami faktor-faktor yang berperan dalam terjadinya kecelakaan jalan di daerah perkotaan selama tahun tersebut. Melalui analisis yang mendalam terhadap data kecelakaan yang terinci, dengan tujuan untuk menyediakan wawasan yang komprehensif kepada pemangku kepentingan terkait tentang faktor-faktor seperti tanggal kejadian, hari dalam seminggu, kendali persimpangan, tingkat keparahan kecelakaan, kondisi geografis, kondisi pencahayaan dan cuaca, serta detail kendaraan yang terlibat. Dengan pemahaman yang lebih baik tentang dinamika kecelakaan jalan yang terjadi selama tahun 2021, kami bertujuan untuk mendukung pengembangan strategi keselamatan jalan yang lebih efektif. Langkah-langkah yang diambil dari analisis ini diharapkan dapat mengarah pada inisiatif pencegahan yang lebih efisien dan program keselamatan jalan yang lebih cermat, dengan tujuan akhir mengurangi jumlah insiden kecelakaan di masa depan dan meningkatkan keselamatan bagi semua pengguna jalan."
      ],
      "metadata": {
        "id": "zxR-W7Z5N_nr"
      }
    },
    {
      "cell_type": "markdown",
      "source": [
        "##**Assess Situation**"
      ],
      "metadata": {
        "id": "jJbN-f9eDydM"
      }
    },
    {
      "cell_type": "markdown",
      "source": [
        "Situasi bisnis yang mendasari dari analisis ini adalah Kurangnya Kepedulian Pengemudi akan Keselamatan Pengemudi di wilayah perkotaan menunjukkan tingkat kesadaran yang rendah akan pentingnya keselamatan di jalan raya, kemudian Kondisi Jalan yang Minim akan Pencahayaan. Beberapa ruas jalan di wilayah perkotaan memiliki pencahayaan yang minim terutama pada malam hari Kondisi ini dapat menciptakan lingkungan yang kurang aman bagi pengguna jalan dan meningkatkan risiko kecelakaan terutama dalam kondisi cuaca buruk atau visibilitas rendah dan Kondisi Cuaca yang Ekstrem di Wilayah perkotaan rentan terhadap kondisi cuaca ekstrem, seperti hujan deras, kabut tebal, atau salju. Kondisi cuaca yang buruk dapat menyebabkan jalan menjadi licin dan mempengaruhi visibilitas."
      ],
      "metadata": {
        "id": "0JuTIghPOEpC"
      }
    },
    {
      "cell_type": "markdown",
      "source": [
        "##**Data Mining Goals**"
      ],
      "metadata": {
        "id": "V3zcFhtqDsHz"
      }
    },
    {
      "cell_type": "markdown",
      "source": [
        "Tujuan utama dari data mining adalah untuk mengidentifikasi pola-pola yang tidak terlihat dan hubungan yang signifikan dalam dataset kecelakaan. Data mining bertujuan untuk menggali informasi yang dapat membantu dalam memahami akar penyebab dari kecelakaan tersebut. Ini mencakup pencarian pola-pola seperti korelasi antara kondisi cuaca tertentu dengan tingkat kecelakaan, pola perilaku pengemudi yang berkontribusi terhadap insiden, atau kecenderungan tertentu dalam lokasi atau waktu kejadian kecelakaan."
      ],
      "metadata": {
        "id": "GMjyUhtDOI4c"
      }
    },
    {
      "cell_type": "markdown",
      "source": [
        "##**Project Plan**"
      ],
      "metadata": {
        "id": "ZBSJ2FktDqkz"
      }
    },
    {
      "cell_type": "markdown",
      "source": [
        "Proyek ini akan dimulai dengan pengumpulan dan pembersihan data kecelakaan jalan tahun 2021 di wilayah perkotaan. Selanjutnya, akan dilakukan analisis data mining untuk mengidentifikasi pola-pola dan hubungan-hubungan antara variabel-variabel dalam dataset. Hasil analisis akan disajikan dalam laporan yang berisi temuan-temuan utama dan rekomendasi untuk langkah-langkah perbaikan keselamatan jalan. Rekomendasi akan dievaluasi dan diimplementasikan oleh pihak berwenang, dengan pemantauan terhadap dampaknya terhadap tingkat kecelakaan secara keseluruhan."
      ],
      "metadata": {
        "id": "nJrm4ctugSKG"
      }
    },
    {
      "cell_type": "markdown",
      "source": [
        "# **DATA UNDERSTANDING**"
      ],
      "metadata": {
        "id": "3Ewijo0q6OOT"
      }
    },
    {
      "cell_type": "markdown",
      "source": [
        "##**Collect Initial Data**"
      ],
      "metadata": {
        "id": "Jss7CcjZ6Tar"
      }
    },
    {
      "cell_type": "markdown",
      "source": [
        "Jadi dataset ini didapatkan di website kaggle. Dataset ini memberikan catatan rinci tentang kecelakaan di jalan raya yang terjadi pada tahun 2021 di daerah perkotaan. Dataset ini juga berguna untuk menganalisis dan memahami faktor-faktor yang berkontribusi terhadap kecelakaan lalu lintas di wilayah perkotaan, sehingga membantu pengembangan strategi untuk meningkatkan keselamatan jalan raya. https://www.kaggle.com/datasets/nextmillionaire/car-accident-dataset"
      ],
      "metadata": {
        "id": "5C8Wh5RjG1v3"
      }
    },
    {
      "cell_type": "code",
      "source": [
        "drive.mount('/content/drive')\n",
        "\n",
        "df=pd.read_csv(\"/content/drive/MyDrive/Road Accident Data.csv\")\n",
        "df.head()"
      ],
      "metadata": {
        "id": "t2jOe9bVGBfq",
        "colab": {
          "base_uri": "https://localhost:8080/",
          "height": 378
        },
        "outputId": "6d6635d7-2a8e-4fb8-8135-468ac813dc29"
      },
      "execution_count": 14,
      "outputs": [
        {
          "output_type": "stream",
          "name": "stdout",
          "text": [
            "Drive already mounted at /content/drive; to attempt to forcibly remount, call drive.mount(\"/content/drive\", force_remount=True).\n"
          ]
        },
        {
          "output_type": "execute_result",
          "data": {
            "text/plain": [
              "  Accident_Index Accident Date Day_of_Week          Junction_Control  \\\n",
              "0  200901BS70001      1/1/2021    Thursday  Give way or uncontrolled   \n",
              "1  200901BS70002      1/5/2021      Monday  Give way or uncontrolled   \n",
              "2  200901BS70003      1/4/2021      Sunday  Give way or uncontrolled   \n",
              "3  200901BS70004      1/5/2021      Monday       Auto traffic signal   \n",
              "4  200901BS70005      1/6/2021     Tuesday       Auto traffic signal   \n",
              "\n",
              "           Junction_Detail Accident_Severity   Latitude  \\\n",
              "0  T or staggered junction           Serious  51.512273   \n",
              "1               Crossroads           Serious  51.514399   \n",
              "2  T or staggered junction            Slight  51.486668   \n",
              "3  T or staggered junction           Serious  51.507804   \n",
              "4               Crossroads           Serious  51.482076   \n",
              "\n",
              "        Light_Conditions Local_Authority_(District) Carriageway_Hazards  ...  \\\n",
              "0               Daylight     Kensington and Chelsea                None  ...   \n",
              "1               Daylight     Kensington and Chelsea                None  ...   \n",
              "2               Daylight     Kensington and Chelsea                None  ...   \n",
              "3               Daylight     Kensington and Chelsea                None  ...   \n",
              "4  Darkness - lights lit     Kensington and Chelsea                None  ...   \n",
              "\n",
              "   Number_of_Casualties  Number_of_Vehicles         Police_Force  \\\n",
              "0                     1                   2  Metropolitan Police   \n",
              "1                    11                   2  Metropolitan Police   \n",
              "2                     1                   2  Metropolitan Police   \n",
              "3                     1                   2  Metropolitan Police   \n",
              "4                     1                   2  Metropolitan Police   \n",
              "\n",
              "  Road_Surface_Conditions           Road_Type Speed_limit   Time  \\\n",
              "0                     Dry      One way street        30.0  15:11   \n",
              "1             Wet or damp  Single carriageway        30.0  10:59   \n",
              "2                     Dry  Single carriageway        30.0  14:19   \n",
              "3            Frost or ice  Single carriageway        30.0   8:10   \n",
              "4                     Dry  Single carriageway        30.0  17:25   \n",
              "\n",
              "  Urban_or_Rural_Area  Weather_Conditions           Vehicle_Type  \n",
              "0               Urban  Fine no high winds                    Car  \n",
              "1               Urban  Fine no high winds  Taxi/Private hire car  \n",
              "2               Urban  Fine no high winds  Taxi/Private hire car  \n",
              "3               Urban               Other  Motorcycle over 500cc  \n",
              "4               Urban  Fine no high winds                    Car  \n",
              "\n",
              "[5 rows x 21 columns]"
            ],
            "text/html": [
              "\n",
              "  <div id=\"df-d68b4410-6c14-4138-96a7-10764697835d\" class=\"colab-df-container\">\n",
              "    <div>\n",
              "<style scoped>\n",
              "    .dataframe tbody tr th:only-of-type {\n",
              "        vertical-align: middle;\n",
              "    }\n",
              "\n",
              "    .dataframe tbody tr th {\n",
              "        vertical-align: top;\n",
              "    }\n",
              "\n",
              "    .dataframe thead th {\n",
              "        text-align: right;\n",
              "    }\n",
              "</style>\n",
              "<table border=\"1\" class=\"dataframe\">\n",
              "  <thead>\n",
              "    <tr style=\"text-align: right;\">\n",
              "      <th></th>\n",
              "      <th>Accident_Index</th>\n",
              "      <th>Accident Date</th>\n",
              "      <th>Day_of_Week</th>\n",
              "      <th>Junction_Control</th>\n",
              "      <th>Junction_Detail</th>\n",
              "      <th>Accident_Severity</th>\n",
              "      <th>Latitude</th>\n",
              "      <th>Light_Conditions</th>\n",
              "      <th>Local_Authority_(District)</th>\n",
              "      <th>Carriageway_Hazards</th>\n",
              "      <th>...</th>\n",
              "      <th>Number_of_Casualties</th>\n",
              "      <th>Number_of_Vehicles</th>\n",
              "      <th>Police_Force</th>\n",
              "      <th>Road_Surface_Conditions</th>\n",
              "      <th>Road_Type</th>\n",
              "      <th>Speed_limit</th>\n",
              "      <th>Time</th>\n",
              "      <th>Urban_or_Rural_Area</th>\n",
              "      <th>Weather_Conditions</th>\n",
              "      <th>Vehicle_Type</th>\n",
              "    </tr>\n",
              "  </thead>\n",
              "  <tbody>\n",
              "    <tr>\n",
              "      <th>0</th>\n",
              "      <td>200901BS70001</td>\n",
              "      <td>1/1/2021</td>\n",
              "      <td>Thursday</td>\n",
              "      <td>Give way or uncontrolled</td>\n",
              "      <td>T or staggered junction</td>\n",
              "      <td>Serious</td>\n",
              "      <td>51.512273</td>\n",
              "      <td>Daylight</td>\n",
              "      <td>Kensington and Chelsea</td>\n",
              "      <td>None</td>\n",
              "      <td>...</td>\n",
              "      <td>1</td>\n",
              "      <td>2</td>\n",
              "      <td>Metropolitan Police</td>\n",
              "      <td>Dry</td>\n",
              "      <td>One way street</td>\n",
              "      <td>30.0</td>\n",
              "      <td>15:11</td>\n",
              "      <td>Urban</td>\n",
              "      <td>Fine no high winds</td>\n",
              "      <td>Car</td>\n",
              "    </tr>\n",
              "    <tr>\n",
              "      <th>1</th>\n",
              "      <td>200901BS70002</td>\n",
              "      <td>1/5/2021</td>\n",
              "      <td>Monday</td>\n",
              "      <td>Give way or uncontrolled</td>\n",
              "      <td>Crossroads</td>\n",
              "      <td>Serious</td>\n",
              "      <td>51.514399</td>\n",
              "      <td>Daylight</td>\n",
              "      <td>Kensington and Chelsea</td>\n",
              "      <td>None</td>\n",
              "      <td>...</td>\n",
              "      <td>11</td>\n",
              "      <td>2</td>\n",
              "      <td>Metropolitan Police</td>\n",
              "      <td>Wet or damp</td>\n",
              "      <td>Single carriageway</td>\n",
              "      <td>30.0</td>\n",
              "      <td>10:59</td>\n",
              "      <td>Urban</td>\n",
              "      <td>Fine no high winds</td>\n",
              "      <td>Taxi/Private hire car</td>\n",
              "    </tr>\n",
              "    <tr>\n",
              "      <th>2</th>\n",
              "      <td>200901BS70003</td>\n",
              "      <td>1/4/2021</td>\n",
              "      <td>Sunday</td>\n",
              "      <td>Give way or uncontrolled</td>\n",
              "      <td>T or staggered junction</td>\n",
              "      <td>Slight</td>\n",
              "      <td>51.486668</td>\n",
              "      <td>Daylight</td>\n",
              "      <td>Kensington and Chelsea</td>\n",
              "      <td>None</td>\n",
              "      <td>...</td>\n",
              "      <td>1</td>\n",
              "      <td>2</td>\n",
              "      <td>Metropolitan Police</td>\n",
              "      <td>Dry</td>\n",
              "      <td>Single carriageway</td>\n",
              "      <td>30.0</td>\n",
              "      <td>14:19</td>\n",
              "      <td>Urban</td>\n",
              "      <td>Fine no high winds</td>\n",
              "      <td>Taxi/Private hire car</td>\n",
              "    </tr>\n",
              "    <tr>\n",
              "      <th>3</th>\n",
              "      <td>200901BS70004</td>\n",
              "      <td>1/5/2021</td>\n",
              "      <td>Monday</td>\n",
              "      <td>Auto traffic signal</td>\n",
              "      <td>T or staggered junction</td>\n",
              "      <td>Serious</td>\n",
              "      <td>51.507804</td>\n",
              "      <td>Daylight</td>\n",
              "      <td>Kensington and Chelsea</td>\n",
              "      <td>None</td>\n",
              "      <td>...</td>\n",
              "      <td>1</td>\n",
              "      <td>2</td>\n",
              "      <td>Metropolitan Police</td>\n",
              "      <td>Frost or ice</td>\n",
              "      <td>Single carriageway</td>\n",
              "      <td>30.0</td>\n",
              "      <td>8:10</td>\n",
              "      <td>Urban</td>\n",
              "      <td>Other</td>\n",
              "      <td>Motorcycle over 500cc</td>\n",
              "    </tr>\n",
              "    <tr>\n",
              "      <th>4</th>\n",
              "      <td>200901BS70005</td>\n",
              "      <td>1/6/2021</td>\n",
              "      <td>Tuesday</td>\n",
              "      <td>Auto traffic signal</td>\n",
              "      <td>Crossroads</td>\n",
              "      <td>Serious</td>\n",
              "      <td>51.482076</td>\n",
              "      <td>Darkness - lights lit</td>\n",
              "      <td>Kensington and Chelsea</td>\n",
              "      <td>None</td>\n",
              "      <td>...</td>\n",
              "      <td>1</td>\n",
              "      <td>2</td>\n",
              "      <td>Metropolitan Police</td>\n",
              "      <td>Dry</td>\n",
              "      <td>Single carriageway</td>\n",
              "      <td>30.0</td>\n",
              "      <td>17:25</td>\n",
              "      <td>Urban</td>\n",
              "      <td>Fine no high winds</td>\n",
              "      <td>Car</td>\n",
              "    </tr>\n",
              "  </tbody>\n",
              "</table>\n",
              "<p>5 rows × 21 columns</p>\n",
              "</div>\n",
              "    <div class=\"colab-df-buttons\">\n",
              "\n",
              "  <div class=\"colab-df-container\">\n",
              "    <button class=\"colab-df-convert\" onclick=\"convertToInteractive('df-d68b4410-6c14-4138-96a7-10764697835d')\"\n",
              "            title=\"Convert this dataframe to an interactive table.\"\n",
              "            style=\"display:none;\">\n",
              "\n",
              "  <svg xmlns=\"http://www.w3.org/2000/svg\" height=\"24px\" viewBox=\"0 -960 960 960\">\n",
              "    <path d=\"M120-120v-720h720v720H120Zm60-500h600v-160H180v160Zm220 220h160v-160H400v160Zm0 220h160v-160H400v160ZM180-400h160v-160H180v160Zm440 0h160v-160H620v160ZM180-180h160v-160H180v160Zm440 0h160v-160H620v160Z\"/>\n",
              "  </svg>\n",
              "    </button>\n",
              "\n",
              "  <style>\n",
              "    .colab-df-container {\n",
              "      display:flex;\n",
              "      gap: 12px;\n",
              "    }\n",
              "\n",
              "    .colab-df-convert {\n",
              "      background-color: #E8F0FE;\n",
              "      border: none;\n",
              "      border-radius: 50%;\n",
              "      cursor: pointer;\n",
              "      display: none;\n",
              "      fill: #1967D2;\n",
              "      height: 32px;\n",
              "      padding: 0 0 0 0;\n",
              "      width: 32px;\n",
              "    }\n",
              "\n",
              "    .colab-df-convert:hover {\n",
              "      background-color: #E2EBFA;\n",
              "      box-shadow: 0px 1px 2px rgba(60, 64, 67, 0.3), 0px 1px 3px 1px rgba(60, 64, 67, 0.15);\n",
              "      fill: #174EA6;\n",
              "    }\n",
              "\n",
              "    .colab-df-buttons div {\n",
              "      margin-bottom: 4px;\n",
              "    }\n",
              "\n",
              "    [theme=dark] .colab-df-convert {\n",
              "      background-color: #3B4455;\n",
              "      fill: #D2E3FC;\n",
              "    }\n",
              "\n",
              "    [theme=dark] .colab-df-convert:hover {\n",
              "      background-color: #434B5C;\n",
              "      box-shadow: 0px 1px 3px 1px rgba(0, 0, 0, 0.15);\n",
              "      filter: drop-shadow(0px 1px 2px rgba(0, 0, 0, 0.3));\n",
              "      fill: #FFFFFF;\n",
              "    }\n",
              "  </style>\n",
              "\n",
              "    <script>\n",
              "      const buttonEl =\n",
              "        document.querySelector('#df-d68b4410-6c14-4138-96a7-10764697835d button.colab-df-convert');\n",
              "      buttonEl.style.display =\n",
              "        google.colab.kernel.accessAllowed ? 'block' : 'none';\n",
              "\n",
              "      async function convertToInteractive(key) {\n",
              "        const element = document.querySelector('#df-d68b4410-6c14-4138-96a7-10764697835d');\n",
              "        const dataTable =\n",
              "          await google.colab.kernel.invokeFunction('convertToInteractive',\n",
              "                                                    [key], {});\n",
              "        if (!dataTable) return;\n",
              "\n",
              "        const docLinkHtml = 'Like what you see? Visit the ' +\n",
              "          '<a target=\"_blank\" href=https://colab.research.google.com/notebooks/data_table.ipynb>data table notebook</a>'\n",
              "          + ' to learn more about interactive tables.';\n",
              "        element.innerHTML = '';\n",
              "        dataTable['output_type'] = 'display_data';\n",
              "        await google.colab.output.renderOutput(dataTable, element);\n",
              "        const docLink = document.createElement('div');\n",
              "        docLink.innerHTML = docLinkHtml;\n",
              "        element.appendChild(docLink);\n",
              "      }\n",
              "    </script>\n",
              "  </div>\n",
              "\n",
              "\n",
              "<div id=\"df-feac1848-4c7b-4e1b-8563-a596818d5874\">\n",
              "  <button class=\"colab-df-quickchart\" onclick=\"quickchart('df-feac1848-4c7b-4e1b-8563-a596818d5874')\"\n",
              "            title=\"Suggest charts\"\n",
              "            style=\"display:none;\">\n",
              "\n",
              "<svg xmlns=\"http://www.w3.org/2000/svg\" height=\"24px\"viewBox=\"0 0 24 24\"\n",
              "     width=\"24px\">\n",
              "    <g>\n",
              "        <path d=\"M19 3H5c-1.1 0-2 .9-2 2v14c0 1.1.9 2 2 2h14c1.1 0 2-.9 2-2V5c0-1.1-.9-2-2-2zM9 17H7v-7h2v7zm4 0h-2V7h2v10zm4 0h-2v-4h2v4z\"/>\n",
              "    </g>\n",
              "</svg>\n",
              "  </button>\n",
              "\n",
              "<style>\n",
              "  .colab-df-quickchart {\n",
              "      --bg-color: #E8F0FE;\n",
              "      --fill-color: #1967D2;\n",
              "      --hover-bg-color: #E2EBFA;\n",
              "      --hover-fill-color: #174EA6;\n",
              "      --disabled-fill-color: #AAA;\n",
              "      --disabled-bg-color: #DDD;\n",
              "  }\n",
              "\n",
              "  [theme=dark] .colab-df-quickchart {\n",
              "      --bg-color: #3B4455;\n",
              "      --fill-color: #D2E3FC;\n",
              "      --hover-bg-color: #434B5C;\n",
              "      --hover-fill-color: #FFFFFF;\n",
              "      --disabled-bg-color: #3B4455;\n",
              "      --disabled-fill-color: #666;\n",
              "  }\n",
              "\n",
              "  .colab-df-quickchart {\n",
              "    background-color: var(--bg-color);\n",
              "    border: none;\n",
              "    border-radius: 50%;\n",
              "    cursor: pointer;\n",
              "    display: none;\n",
              "    fill: var(--fill-color);\n",
              "    height: 32px;\n",
              "    padding: 0;\n",
              "    width: 32px;\n",
              "  }\n",
              "\n",
              "  .colab-df-quickchart:hover {\n",
              "    background-color: var(--hover-bg-color);\n",
              "    box-shadow: 0 1px 2px rgba(60, 64, 67, 0.3), 0 1px 3px 1px rgba(60, 64, 67, 0.15);\n",
              "    fill: var(--button-hover-fill-color);\n",
              "  }\n",
              "\n",
              "  .colab-df-quickchart-complete:disabled,\n",
              "  .colab-df-quickchart-complete:disabled:hover {\n",
              "    background-color: var(--disabled-bg-color);\n",
              "    fill: var(--disabled-fill-color);\n",
              "    box-shadow: none;\n",
              "  }\n",
              "\n",
              "  .colab-df-spinner {\n",
              "    border: 2px solid var(--fill-color);\n",
              "    border-color: transparent;\n",
              "    border-bottom-color: var(--fill-color);\n",
              "    animation:\n",
              "      spin 1s steps(1) infinite;\n",
              "  }\n",
              "\n",
              "  @keyframes spin {\n",
              "    0% {\n",
              "      border-color: transparent;\n",
              "      border-bottom-color: var(--fill-color);\n",
              "      border-left-color: var(--fill-color);\n",
              "    }\n",
              "    20% {\n",
              "      border-color: transparent;\n",
              "      border-left-color: var(--fill-color);\n",
              "      border-top-color: var(--fill-color);\n",
              "    }\n",
              "    30% {\n",
              "      border-color: transparent;\n",
              "      border-left-color: var(--fill-color);\n",
              "      border-top-color: var(--fill-color);\n",
              "      border-right-color: var(--fill-color);\n",
              "    }\n",
              "    40% {\n",
              "      border-color: transparent;\n",
              "      border-right-color: var(--fill-color);\n",
              "      border-top-color: var(--fill-color);\n",
              "    }\n",
              "    60% {\n",
              "      border-color: transparent;\n",
              "      border-right-color: var(--fill-color);\n",
              "    }\n",
              "    80% {\n",
              "      border-color: transparent;\n",
              "      border-right-color: var(--fill-color);\n",
              "      border-bottom-color: var(--fill-color);\n",
              "    }\n",
              "    90% {\n",
              "      border-color: transparent;\n",
              "      border-bottom-color: var(--fill-color);\n",
              "    }\n",
              "  }\n",
              "</style>\n",
              "\n",
              "  <script>\n",
              "    async function quickchart(key) {\n",
              "      const quickchartButtonEl =\n",
              "        document.querySelector('#' + key + ' button');\n",
              "      quickchartButtonEl.disabled = true;  // To prevent multiple clicks.\n",
              "      quickchartButtonEl.classList.add('colab-df-spinner');\n",
              "      try {\n",
              "        const charts = await google.colab.kernel.invokeFunction(\n",
              "            'suggestCharts', [key], {});\n",
              "      } catch (error) {\n",
              "        console.error('Error during call to suggestCharts:', error);\n",
              "      }\n",
              "      quickchartButtonEl.classList.remove('colab-df-spinner');\n",
              "      quickchartButtonEl.classList.add('colab-df-quickchart-complete');\n",
              "    }\n",
              "    (() => {\n",
              "      let quickchartButtonEl =\n",
              "        document.querySelector('#df-feac1848-4c7b-4e1b-8563-a596818d5874 button');\n",
              "      quickchartButtonEl.style.display =\n",
              "        google.colab.kernel.accessAllowed ? 'block' : 'none';\n",
              "    })();\n",
              "  </script>\n",
              "</div>\n",
              "    </div>\n",
              "  </div>\n"
            ],
            "application/vnd.google.colaboratory.intrinsic+json": {
              "type": "dataframe",
              "variable_name": "df"
            }
          },
          "metadata": {},
          "execution_count": 14
        }
      ]
    },
    {
      "cell_type": "markdown",
      "source": [
        "## **Describe Data**"
      ],
      "metadata": {
        "id": "ksr6nw8VHaGD"
      }
    },
    {
      "cell_type": "markdown",
      "source": [
        "###Informasi Dasar"
      ],
      "metadata": {
        "id": "MWvEQukRHlHY"
      }
    },
    {
      "cell_type": "code",
      "source": [
        "jumlah_baris,jumlah_kolom = df.shape\n",
        "print(f\"Jumlah Baris: {jumlah_baris}\")\n",
        "print(f\"Jumlah Kolom: {jumlah_kolom}\")"
      ],
      "metadata": {
        "colab": {
          "base_uri": "https://localhost:8080/"
        },
        "id": "bkb1mVIwH4xk",
        "outputId": "70b62873-48a0-4a12-dbba-50b49468b701"
      },
      "execution_count": 3,
      "outputs": [
        {
          "output_type": "stream",
          "name": "stdout",
          "text": [
            "Jumlah Baris: 65058\n",
            "Jumlah Kolom: 21\n"
          ]
        }
      ]
    },
    {
      "cell_type": "markdown",
      "source": [
        "Berdasarkan informasi diatas dataset ini memiliki jumlah baris sebanyak 65058 baris dan memiliki jumlah kolom sebanyak 21 kolom"
      ],
      "metadata": {
        "id": "0BYICL9UH0lK"
      }
    },
    {
      "cell_type": "markdown",
      "source": [
        "###Informasi Lanjutan"
      ],
      "metadata": {
        "id": "jLlMRZ5jH7_q"
      }
    },
    {
      "cell_type": "code",
      "source": [
        "df.info()"
      ],
      "metadata": {
        "colab": {
          "base_uri": "https://localhost:8080/"
        },
        "id": "cWr218IbIBjp",
        "outputId": "878f7fa9-9195-4b91-db39-5db9c42606a5"
      },
      "execution_count": 4,
      "outputs": [
        {
          "output_type": "stream",
          "name": "stdout",
          "text": [
            "<class 'pandas.core.frame.DataFrame'>\n",
            "RangeIndex: 65058 entries, 0 to 65057\n",
            "Data columns (total 21 columns):\n",
            " #   Column                      Non-Null Count  Dtype  \n",
            "---  ------                      --------------  -----  \n",
            " 0   Accident_Index              65058 non-null  object \n",
            " 1   Accident Date               65058 non-null  object \n",
            " 2   Day_of_Week                 65058 non-null  object \n",
            " 3   Junction_Control            65058 non-null  object \n",
            " 4   Junction_Detail             65058 non-null  object \n",
            " 5   Accident_Severity           65058 non-null  object \n",
            " 6   Latitude                    65058 non-null  float64\n",
            " 7   Light_Conditions            65058 non-null  object \n",
            " 8   Local_Authority_(District)  65058 non-null  object \n",
            " 9   Carriageway_Hazards         65057 non-null  object \n",
            " 10  Longitude                   65058 non-null  float64\n",
            " 11  Number_of_Casualties        65058 non-null  int64  \n",
            " 12  Number_of_Vehicles          65058 non-null  int64  \n",
            " 13  Police_Force                65058 non-null  object \n",
            " 14  Road_Surface_Conditions     65055 non-null  object \n",
            " 15  Road_Type                   64799 non-null  object \n",
            " 16  Speed_limit                 65057 non-null  float64\n",
            " 17  Time                        65057 non-null  object \n",
            " 18  Urban_or_Rural_Area         65057 non-null  object \n",
            " 19  Weather_Conditions          64052 non-null  object \n",
            " 20  Vehicle_Type                65057 non-null  object \n",
            "dtypes: float64(3), int64(2), object(16)\n",
            "memory usage: 10.4+ MB\n"
          ]
        }
      ]
    },
    {
      "cell_type": "markdown",
      "source": [
        "berikut penjelasan berdasarkan informasi yang diberikan diatas:\n",
        "\n",
        "1. Accident_Index: Merupakan indeks unik untuk setiap kecelakaan **dengan tipe data object**.\n",
        "\n",
        "2. Accident Date: Menunjukkan tanggal kecelakaan **dengan tipe data object**.\n",
        "\n",
        "3. Day_of_Week: Menunjukkan hari dalam seminggu saat kecelakaan terjadi **dengan tipe data object**.\n",
        "\n",
        "4. Junction_Control: Menunjukkan kontrol persimpangan (misalnya, traffic signal, roundabout, atau tidak ada kontrol) **dengan tipe data object**.\n",
        "\n",
        "5. Junction_Detail: Detail tentang persimpangan (misalnya, apakah berupa roundabout atau bukan) **dengan tipe data object**.\n",
        "\n",
        "6. Accident_Severity: Tingkat keparahan kecelakaan (Serious, Slight, atau Fatal) **dengan tipe data object**.\n",
        "\n",
        "7. Latitude dan Longitude: Koordinat lokasi kecelakaan **dengan tipe data float64**.\n",
        "\n",
        "8. Light_Conditions: Kondisi pencahayaan saat kecelakaan terjadi **dengan tipe data object**.\n",
        "\n",
        "9. Local_Authority_(District): Otoritas lokal yang bertanggung jawab atas wilayah tersebut **dengan tipe data object**.\n",
        "\n",
        "10. Carriageway_Hazards: Bahaya di jalur perjalanan (misalnya, hewan liar atau bahan berbahaya) **dengan tipe data object**.\n",
        "\n",
        "11. Number_of_Casualties: Jumlah total korban dalam kecelakaan **dengan tipe data int64**.\n",
        "\n",
        "12. Number_of_Vehicles: Jumlah total kendaraan yang terlibat dalam kecelakaan **dengan tipe data int64**.\n",
        "\n",
        "13. Police_Force: Kekuatan polisi yang menangani kecelakaan **dengan tipe data object**.\n",
        "\n",
        "14. Road_Surface_Conditions: Kondisi permukaan jalan saat kecelakaan terjadi **dengan tipe data object**.\n",
        "\n",
        "15. Road_Type: Jenis jalan (misalnya, jalan raya, jalan lokal, atau jalan pedesaan) **dengan tipe data object**.\n",
        "\n",
        "16. Speed_limit: Batas kecepatan di lokasi kecelakaan **dengan tipe data float64**.\n",
        "\n",
        "17. Time: Waktu kecelakaan terjadi **dengan tipe data object**.\n",
        "\n",
        "18. Urban_or_Rural_Area: Menunjukkan apakah lokasi kecelakaan berada di daerah perkotaan atau pedesaan **dengan tipe data object**.\n",
        "\n",
        "19. Weather_Conditions: Kondisi cuaca saat kecelakaan terjadi **dengan tipe data object**.\n",
        "\n",
        "20. Vehicle_Type: Jenis kendaraan yang terlibat dalam kecelakaan **dengan tipe data object**.\n",
        "\n",
        "- float64(3): Menunjukkan bahwa ada 3 kolom dengan tipe data float64, yaitu tipe data bilangan real dengan presisi floating-point.\n",
        "\n",
        "- int64(2): Menunjukkan bahwa ada 2 kolom dengan tipe data int64, yaitu tipe data bilangan bulat.\n",
        "\n",
        "- object(16): Menunjukkan bahwa ada 16 kolom dengan tipe data object, yang dalam konteks ini mungkin merujuk pada string atau tipe data campuran lainnya."
      ],
      "metadata": {
        "id": "MhUaiMqaH_LL"
      }
    },
    {
      "cell_type": "markdown",
      "source": [
        "###Informasi Statistik Deskriptif"
      ],
      "metadata": {
        "id": "CwzyvmPELks6"
      }
    },
    {
      "cell_type": "code",
      "source": [
        "df.describe()"
      ],
      "metadata": {
        "id": "0KoNsaZNLtLh",
        "colab": {
          "base_uri": "https://localhost:8080/",
          "height": 300
        },
        "outputId": "0a3495dd-b442-4c84-b561-a9867189801c"
      },
      "execution_count": 13,
      "outputs": [
        {
          "output_type": "execute_result",
          "data": {
            "text/plain": [
              "           Latitude     Longitude  Number_of_Casualties  Number_of_Vehicles  \\\n",
              "count  65058.000000  65058.000000          65058.000000        65058.000000   \n",
              "mean      52.991892     -1.291566              1.355314            1.813582   \n",
              "std        1.198939      1.050188              0.813736            0.683076   \n",
              "min       51.295164     -3.597103              1.000000            1.000000   \n",
              "25%       51.545440     -2.219329              1.000000            1.000000   \n",
              "50%       53.437465     -1.448107              1.000000            2.000000   \n",
              "75%       53.777870     -0.175658              1.000000            2.000000   \n",
              "max       55.800561      0.297740             18.000000           16.000000   \n",
              "\n",
              "        Speed_limit  \n",
              "count  65057.000000  \n",
              "mean      35.382511  \n",
              "std       11.683165  \n",
              "min       20.000000  \n",
              "25%       30.000000  \n",
              "50%       30.000000  \n",
              "75%       30.000000  \n",
              "max       70.000000  "
            ],
            "text/html": [
              "\n",
              "  <div id=\"df-2a356176-4764-49b0-b984-0e4e1614d71e\" class=\"colab-df-container\">\n",
              "    <div>\n",
              "<style scoped>\n",
              "    .dataframe tbody tr th:only-of-type {\n",
              "        vertical-align: middle;\n",
              "    }\n",
              "\n",
              "    .dataframe tbody tr th {\n",
              "        vertical-align: top;\n",
              "    }\n",
              "\n",
              "    .dataframe thead th {\n",
              "        text-align: right;\n",
              "    }\n",
              "</style>\n",
              "<table border=\"1\" class=\"dataframe\">\n",
              "  <thead>\n",
              "    <tr style=\"text-align: right;\">\n",
              "      <th></th>\n",
              "      <th>Latitude</th>\n",
              "      <th>Longitude</th>\n",
              "      <th>Number_of_Casualties</th>\n",
              "      <th>Number_of_Vehicles</th>\n",
              "      <th>Speed_limit</th>\n",
              "    </tr>\n",
              "  </thead>\n",
              "  <tbody>\n",
              "    <tr>\n",
              "      <th>count</th>\n",
              "      <td>65058.000000</td>\n",
              "      <td>65058.000000</td>\n",
              "      <td>65058.000000</td>\n",
              "      <td>65058.000000</td>\n",
              "      <td>65057.000000</td>\n",
              "    </tr>\n",
              "    <tr>\n",
              "      <th>mean</th>\n",
              "      <td>52.991892</td>\n",
              "      <td>-1.291566</td>\n",
              "      <td>1.355314</td>\n",
              "      <td>1.813582</td>\n",
              "      <td>35.382511</td>\n",
              "    </tr>\n",
              "    <tr>\n",
              "      <th>std</th>\n",
              "      <td>1.198939</td>\n",
              "      <td>1.050188</td>\n",
              "      <td>0.813736</td>\n",
              "      <td>0.683076</td>\n",
              "      <td>11.683165</td>\n",
              "    </tr>\n",
              "    <tr>\n",
              "      <th>min</th>\n",
              "      <td>51.295164</td>\n",
              "      <td>-3.597103</td>\n",
              "      <td>1.000000</td>\n",
              "      <td>1.000000</td>\n",
              "      <td>20.000000</td>\n",
              "    </tr>\n",
              "    <tr>\n",
              "      <th>25%</th>\n",
              "      <td>51.545440</td>\n",
              "      <td>-2.219329</td>\n",
              "      <td>1.000000</td>\n",
              "      <td>1.000000</td>\n",
              "      <td>30.000000</td>\n",
              "    </tr>\n",
              "    <tr>\n",
              "      <th>50%</th>\n",
              "      <td>53.437465</td>\n",
              "      <td>-1.448107</td>\n",
              "      <td>1.000000</td>\n",
              "      <td>2.000000</td>\n",
              "      <td>30.000000</td>\n",
              "    </tr>\n",
              "    <tr>\n",
              "      <th>75%</th>\n",
              "      <td>53.777870</td>\n",
              "      <td>-0.175658</td>\n",
              "      <td>1.000000</td>\n",
              "      <td>2.000000</td>\n",
              "      <td>30.000000</td>\n",
              "    </tr>\n",
              "    <tr>\n",
              "      <th>max</th>\n",
              "      <td>55.800561</td>\n",
              "      <td>0.297740</td>\n",
              "      <td>18.000000</td>\n",
              "      <td>16.000000</td>\n",
              "      <td>70.000000</td>\n",
              "    </tr>\n",
              "  </tbody>\n",
              "</table>\n",
              "</div>\n",
              "    <div class=\"colab-df-buttons\">\n",
              "\n",
              "  <div class=\"colab-df-container\">\n",
              "    <button class=\"colab-df-convert\" onclick=\"convertToInteractive('df-2a356176-4764-49b0-b984-0e4e1614d71e')\"\n",
              "            title=\"Convert this dataframe to an interactive table.\"\n",
              "            style=\"display:none;\">\n",
              "\n",
              "  <svg xmlns=\"http://www.w3.org/2000/svg\" height=\"24px\" viewBox=\"0 -960 960 960\">\n",
              "    <path d=\"M120-120v-720h720v720H120Zm60-500h600v-160H180v160Zm220 220h160v-160H400v160Zm0 220h160v-160H400v160ZM180-400h160v-160H180v160Zm440 0h160v-160H620v160ZM180-180h160v-160H180v160Zm440 0h160v-160H620v160Z\"/>\n",
              "  </svg>\n",
              "    </button>\n",
              "\n",
              "  <style>\n",
              "    .colab-df-container {\n",
              "      display:flex;\n",
              "      gap: 12px;\n",
              "    }\n",
              "\n",
              "    .colab-df-convert {\n",
              "      background-color: #E8F0FE;\n",
              "      border: none;\n",
              "      border-radius: 50%;\n",
              "      cursor: pointer;\n",
              "      display: none;\n",
              "      fill: #1967D2;\n",
              "      height: 32px;\n",
              "      padding: 0 0 0 0;\n",
              "      width: 32px;\n",
              "    }\n",
              "\n",
              "    .colab-df-convert:hover {\n",
              "      background-color: #E2EBFA;\n",
              "      box-shadow: 0px 1px 2px rgba(60, 64, 67, 0.3), 0px 1px 3px 1px rgba(60, 64, 67, 0.15);\n",
              "      fill: #174EA6;\n",
              "    }\n",
              "\n",
              "    .colab-df-buttons div {\n",
              "      margin-bottom: 4px;\n",
              "    }\n",
              "\n",
              "    [theme=dark] .colab-df-convert {\n",
              "      background-color: #3B4455;\n",
              "      fill: #D2E3FC;\n",
              "    }\n",
              "\n",
              "    [theme=dark] .colab-df-convert:hover {\n",
              "      background-color: #434B5C;\n",
              "      box-shadow: 0px 1px 3px 1px rgba(0, 0, 0, 0.15);\n",
              "      filter: drop-shadow(0px 1px 2px rgba(0, 0, 0, 0.3));\n",
              "      fill: #FFFFFF;\n",
              "    }\n",
              "  </style>\n",
              "\n",
              "    <script>\n",
              "      const buttonEl =\n",
              "        document.querySelector('#df-2a356176-4764-49b0-b984-0e4e1614d71e button.colab-df-convert');\n",
              "      buttonEl.style.display =\n",
              "        google.colab.kernel.accessAllowed ? 'block' : 'none';\n",
              "\n",
              "      async function convertToInteractive(key) {\n",
              "        const element = document.querySelector('#df-2a356176-4764-49b0-b984-0e4e1614d71e');\n",
              "        const dataTable =\n",
              "          await google.colab.kernel.invokeFunction('convertToInteractive',\n",
              "                                                    [key], {});\n",
              "        if (!dataTable) return;\n",
              "\n",
              "        const docLinkHtml = 'Like what you see? Visit the ' +\n",
              "          '<a target=\"_blank\" href=https://colab.research.google.com/notebooks/data_table.ipynb>data table notebook</a>'\n",
              "          + ' to learn more about interactive tables.';\n",
              "        element.innerHTML = '';\n",
              "        dataTable['output_type'] = 'display_data';\n",
              "        await google.colab.output.renderOutput(dataTable, element);\n",
              "        const docLink = document.createElement('div');\n",
              "        docLink.innerHTML = docLinkHtml;\n",
              "        element.appendChild(docLink);\n",
              "      }\n",
              "    </script>\n",
              "  </div>\n",
              "\n",
              "\n",
              "<div id=\"df-7d683717-3a41-4e6e-9323-fcea318cc121\">\n",
              "  <button class=\"colab-df-quickchart\" onclick=\"quickchart('df-7d683717-3a41-4e6e-9323-fcea318cc121')\"\n",
              "            title=\"Suggest charts\"\n",
              "            style=\"display:none;\">\n",
              "\n",
              "<svg xmlns=\"http://www.w3.org/2000/svg\" height=\"24px\"viewBox=\"0 0 24 24\"\n",
              "     width=\"24px\">\n",
              "    <g>\n",
              "        <path d=\"M19 3H5c-1.1 0-2 .9-2 2v14c0 1.1.9 2 2 2h14c1.1 0 2-.9 2-2V5c0-1.1-.9-2-2-2zM9 17H7v-7h2v7zm4 0h-2V7h2v10zm4 0h-2v-4h2v4z\"/>\n",
              "    </g>\n",
              "</svg>\n",
              "  </button>\n",
              "\n",
              "<style>\n",
              "  .colab-df-quickchart {\n",
              "      --bg-color: #E8F0FE;\n",
              "      --fill-color: #1967D2;\n",
              "      --hover-bg-color: #E2EBFA;\n",
              "      --hover-fill-color: #174EA6;\n",
              "      --disabled-fill-color: #AAA;\n",
              "      --disabled-bg-color: #DDD;\n",
              "  }\n",
              "\n",
              "  [theme=dark] .colab-df-quickchart {\n",
              "      --bg-color: #3B4455;\n",
              "      --fill-color: #D2E3FC;\n",
              "      --hover-bg-color: #434B5C;\n",
              "      --hover-fill-color: #FFFFFF;\n",
              "      --disabled-bg-color: #3B4455;\n",
              "      --disabled-fill-color: #666;\n",
              "  }\n",
              "\n",
              "  .colab-df-quickchart {\n",
              "    background-color: var(--bg-color);\n",
              "    border: none;\n",
              "    border-radius: 50%;\n",
              "    cursor: pointer;\n",
              "    display: none;\n",
              "    fill: var(--fill-color);\n",
              "    height: 32px;\n",
              "    padding: 0;\n",
              "    width: 32px;\n",
              "  }\n",
              "\n",
              "  .colab-df-quickchart:hover {\n",
              "    background-color: var(--hover-bg-color);\n",
              "    box-shadow: 0 1px 2px rgba(60, 64, 67, 0.3), 0 1px 3px 1px rgba(60, 64, 67, 0.15);\n",
              "    fill: var(--button-hover-fill-color);\n",
              "  }\n",
              "\n",
              "  .colab-df-quickchart-complete:disabled,\n",
              "  .colab-df-quickchart-complete:disabled:hover {\n",
              "    background-color: var(--disabled-bg-color);\n",
              "    fill: var(--disabled-fill-color);\n",
              "    box-shadow: none;\n",
              "  }\n",
              "\n",
              "  .colab-df-spinner {\n",
              "    border: 2px solid var(--fill-color);\n",
              "    border-color: transparent;\n",
              "    border-bottom-color: var(--fill-color);\n",
              "    animation:\n",
              "      spin 1s steps(1) infinite;\n",
              "  }\n",
              "\n",
              "  @keyframes spin {\n",
              "    0% {\n",
              "      border-color: transparent;\n",
              "      border-bottom-color: var(--fill-color);\n",
              "      border-left-color: var(--fill-color);\n",
              "    }\n",
              "    20% {\n",
              "      border-color: transparent;\n",
              "      border-left-color: var(--fill-color);\n",
              "      border-top-color: var(--fill-color);\n",
              "    }\n",
              "    30% {\n",
              "      border-color: transparent;\n",
              "      border-left-color: var(--fill-color);\n",
              "      border-top-color: var(--fill-color);\n",
              "      border-right-color: var(--fill-color);\n",
              "    }\n",
              "    40% {\n",
              "      border-color: transparent;\n",
              "      border-right-color: var(--fill-color);\n",
              "      border-top-color: var(--fill-color);\n",
              "    }\n",
              "    60% {\n",
              "      border-color: transparent;\n",
              "      border-right-color: var(--fill-color);\n",
              "    }\n",
              "    80% {\n",
              "      border-color: transparent;\n",
              "      border-right-color: var(--fill-color);\n",
              "      border-bottom-color: var(--fill-color);\n",
              "    }\n",
              "    90% {\n",
              "      border-color: transparent;\n",
              "      border-bottom-color: var(--fill-color);\n",
              "    }\n",
              "  }\n",
              "</style>\n",
              "\n",
              "  <script>\n",
              "    async function quickchart(key) {\n",
              "      const quickchartButtonEl =\n",
              "        document.querySelector('#' + key + ' button');\n",
              "      quickchartButtonEl.disabled = true;  // To prevent multiple clicks.\n",
              "      quickchartButtonEl.classList.add('colab-df-spinner');\n",
              "      try {\n",
              "        const charts = await google.colab.kernel.invokeFunction(\n",
              "            'suggestCharts', [key], {});\n",
              "      } catch (error) {\n",
              "        console.error('Error during call to suggestCharts:', error);\n",
              "      }\n",
              "      quickchartButtonEl.classList.remove('colab-df-spinner');\n",
              "      quickchartButtonEl.classList.add('colab-df-quickchart-complete');\n",
              "    }\n",
              "    (() => {\n",
              "      let quickchartButtonEl =\n",
              "        document.querySelector('#df-7d683717-3a41-4e6e-9323-fcea318cc121 button');\n",
              "      quickchartButtonEl.style.display =\n",
              "        google.colab.kernel.accessAllowed ? 'block' : 'none';\n",
              "    })();\n",
              "  </script>\n",
              "</div>\n",
              "    </div>\n",
              "  </div>\n"
            ],
            "application/vnd.google.colaboratory.intrinsic+json": {
              "type": "dataframe",
              "summary": "{\n  \"name\": \"df\",\n  \"rows\": 8,\n  \"fields\": [\n    {\n      \"column\": \"Latitude\",\n      \"properties\": {\n        \"dtype\": \"number\",\n        \"std\": 22985.318882569984,\n        \"min\": 1.1989388155032243,\n        \"max\": 65058.0,\n        \"num_unique_values\": 8,\n        \"samples\": [\n          52.991892009237915,\n          53.437465,\n          65058.0\n        ],\n        \"semantic_type\": \"\",\n        \"description\": \"\"\n      }\n    },\n    {\n      \"column\": \"Longitude\",\n      \"properties\": {\n        \"dtype\": \"number\",\n        \"std\": 23001.84947196721,\n        \"min\": -3.597103,\n        \"max\": 65058.0,\n        \"num_unique_values\": 8,\n        \"samples\": [\n          -1.2915657285960218,\n          -1.448107,\n          65058.0\n        ],\n        \"semantic_type\": \"\",\n        \"description\": \"\"\n      }\n    },\n    {\n      \"column\": \"Number_of_Casualties\",\n      \"properties\": {\n        \"dtype\": \"number\",\n        \"std\": 23000.25653108324,\n        \"min\": 0.8137361560176207,\n        \"max\": 65058.0,\n        \"num_unique_values\": 5,\n        \"samples\": [\n          1.3553137200651726,\n          18.0,\n          0.8137361560176207\n        ],\n        \"semantic_type\": \"\",\n        \"description\": \"\"\n      }\n    },\n    {\n      \"column\": \"Number_of_Vehicles\",\n      \"properties\": {\n        \"dtype\": \"number\",\n        \"std\": 23000.239788678984,\n        \"min\": 0.6830758872572176,\n        \"max\": 65058.0,\n        \"num_unique_values\": 6,\n        \"samples\": [\n          65058.0,\n          1.8135817270743029,\n          16.0\n        ],\n        \"semantic_type\": \"\",\n        \"description\": \"\"\n      }\n    },\n    {\n      \"column\": \"Speed_limit\",\n      \"properties\": {\n        \"dtype\": \"number\",\n        \"std\": 22989.660668358883,\n        \"min\": 11.683165025189973,\n        \"max\": 65057.0,\n        \"num_unique_values\": 6,\n        \"samples\": [\n          65057.0,\n          35.38251072136742,\n          70.0\n        ],\n        \"semantic_type\": \"\",\n        \"description\": \"\"\n      }\n    }\n  ]\n}"
            }
          },
          "metadata": {},
          "execution_count": 13
        }
      ]
    },
    {
      "cell_type": "markdown",
      "source": [
        "Berikut adalah data statistik deskriptif untuk setiap kolom pada Car Accident dataset diatas :\n",
        "\n",
        "- **Latitude**\n",
        "1. Jumlah : 65058.0\n",
        "2. Rata-rata : 52.991892009237915\n",
        "3. Standar deviasi : 1.1989388155032243\n",
        "4. Minimum : 51.295164\n",
        "5. 25% : 51.545440\n",
        "6. 50% : 53.437465\n",
        "7. 75% : 53.777870\n",
        "8. Maksimum : 55.800561\n",
        "\n",
        "- **Longitude**\n",
        "1. Jumlah : 65058.000000\n",
        "2. Rata-rata : -1.291566\n",
        "3. Standar deviasi : 1.050188\n",
        "4. Minimum : -3.597103\n",
        "5. 25% : -2.219329\n",
        "6. 50% : -1.448107\n",
        "7. 75% : -0.175658\n",
        "8. Maksimum : 0.297740\n",
        "\n",
        "- **Number of Casualties**\n",
        "1. Jumlah : 65058.000000\n",
        "2. Rata-rata : 1.355314\n",
        "3. Standar deviasi : 0.813736\n",
        "4. Minimum : 1.000000\n",
        "5. 25% : 1.000000\n",
        "6. 50% : 1.000000\n",
        "7. 75% : 1.000000\n",
        "8. Maksimum : 18.000000\n",
        "\n",
        "**Number of Vehicle**\n",
        "1. Jumlah : 65058.000000\n",
        "2. Rata-rata : 1.813582\n",
        "3. Standar deviasi : 0.683076\n",
        "4. Minimum : 1.000000\n",
        "5. 25% : 1.000000\n",
        "6. 50% : 2.000000\n",
        "7. 75% : 2.000000\n",
        "8. Maksimum : 16.000000\n",
        "\n",
        "**Speed Limit**\n",
        "1. Jumlah : 65057.000000\n",
        "2. Rata-rata : 35.382511\n",
        "3. Standar deviasi : 11.683165\n",
        "4. Minimum : 20.000000\n",
        "5. 25% : 30.000000\n",
        "6. 50% : 30.000000\n",
        "7. 75% : 30.000000\n",
        "8. Maksimum : 70.000000"
      ],
      "metadata": {
        "id": "vjtGsKSlLthw"
      }
    },
    {
      "cell_type": "markdown",
      "source": [
        "##**Exploratory Data Analysis**"
      ],
      "metadata": {
        "id": "9mkiNio6MGhv"
      }
    },
    {
      "cell_type": "code",
      "source": [
        "df['Accident_Severity'] = df['Accident_Severity'].replace('Fetal', 'Fatal')"
      ],
      "metadata": {
        "id": "yPq86-gobuwN"
      },
      "execution_count": 6,
      "outputs": []
    },
    {
      "cell_type": "code",
      "source": [
        "plt.figure(figsize=(8, 8))\n",
        "ax = sns.countplot(x='Accident_Severity', data=df  , palette='rocket')\n",
        "for p in ax.patches:\n",
        "    ax.annotate('{:0.0f}'.format(p.get_height()), (p.get_x() + p.get_width() / 2., p.get_height()),\n",
        "                ha='center', va='center', xytext=(0, 10), textcoords='offset points')\n",
        "plt.title('Tingkat keseriusan kecelakaan')\n",
        "plt.xlabel('Tingkat')\n",
        "plt.ylabel('Jumlah')\n",
        "plt.show()"
      ],
      "metadata": {
        "id": "-vhnLNm-WHAG",
        "colab": {
          "base_uri": "https://localhost:8080/",
          "height": 810
        },
        "outputId": "86db92c7-ab74-4c91-b4d5-2cfaa2625dc5"
      },
      "execution_count": 7,
      "outputs": [
        {
          "output_type": "stream",
          "name": "stderr",
          "text": [
            "<ipython-input-7-1ba04b9bbf10>:2: FutureWarning: \n",
            "\n",
            "Passing `palette` without assigning `hue` is deprecated and will be removed in v0.14.0. Assign the `x` variable to `hue` and set `legend=False` for the same effect.\n",
            "\n",
            "  ax = sns.countplot(x='Accident_Severity', data=df  , palette='rocket')\n"
          ]
        },
        {
          "output_type": "display_data",
          "data": {
            "text/plain": [
              "<Figure size 800x800 with 1 Axes>"
            ],
            "image/png": "[encoded data removed]"
          },
          "metadata": {}
        }
      ]
    },
    {
      "cell_type": "markdown",
      "source": [
        "Berdasarkan visualisasi diatas menunjukkan bahwa tingkat keseriusan yang paling tinggi adalah Slight(sedikit) yaitu sebanyak 55627 kasus kemudian dilanjut oleh Serious(serius) sebanyak 8443 kasus dan yang terakhir Fatal(fatal) sebanyak 988 kasus."
      ],
      "metadata": {
        "id": "3CFg7AEZMVZ_"
      }
    },
    {
      "cell_type": "markdown",
      "source": [
        "##**Verify Data Quality**"
      ],
      "metadata": {
        "id": "D2VmXloaMbFK"
      }
    },
    {
      "cell_type": "markdown",
      "source": [
        "###Missing Values"
      ],
      "metadata": {
        "id": "YqYPMXLYNfmO"
      }
    },
    {
      "cell_type": "code",
      "source": [
        "missing_values = df.isnull().sum()\n",
        "\n",
        "print(missing_values)"
      ],
      "metadata": {
        "colab": {
          "base_uri": "https://localhost:8080/"
        },
        "id": "FdvJg0xwNiCt",
        "outputId": "52383d26-1a59-46e5-9eb2-d39f3c49806e"
      },
      "execution_count": 8,
      "outputs": [
        {
          "output_type": "stream",
          "name": "stdout",
          "text": [
            "Accident_Index                   0\n",
            "Accident Date                    0\n",
            "Day_of_Week                      0\n",
            "Junction_Control                 0\n",
            "Junction_Detail                  0\n",
            "Accident_Severity                0\n",
            "Latitude                         0\n",
            "Light_Conditions                 0\n",
            "Local_Authority_(District)       0\n",
            "Carriageway_Hazards              1\n",
            "Longitude                        0\n",
            "Number_of_Casualties             0\n",
            "Number_of_Vehicles               0\n",
            "Police_Force                     0\n",
            "Road_Surface_Conditions          3\n",
            "Road_Type                      259\n",
            "Speed_limit                      1\n",
            "Time                             1\n",
            "Urban_or_Rural_Area              1\n",
            "Weather_Conditions            1006\n",
            "Vehicle_Type                     1\n",
            "dtype: int64\n"
          ]
        }
      ]
    },
    {
      "cell_type": "markdown",
      "source": [
        "Berdasarkan hasil output, terdapat beberapa kolom yang memiliki missing values (nilai yang hilang). Berikut adalah mengenai missing values dalam data:\n",
        "\n",
        "- Carriageway_Hazards: Terdapat 1 missing value.\n",
        "- Road_Surface_Conditions: Terdapat 3 missing values.\n",
        "- Road_Type: Terdapat 259 missing values.\n",
        "- Speed_limit: Terdapat 1 missing value.\n",
        "- Time: Terdapat 1 missing value.\n",
        "- Urban_or_Rural_Area: Terdapat 1 missing value.\n",
        "- Weather_Conditions: Terdapat 1006 missing values.\n",
        "- Vehicle_Type: Terdapat 1 missing value."
      ],
      "metadata": {
        "id": "0wwjpeZ5XEdg"
      }
    },
    {
      "cell_type": "markdown",
      "source": [
        "###Outliers Values"
      ],
      "metadata": {
        "id": "AQR0r_yAMgqW"
      }
    },
    {
      "cell_type": "code",
      "source": [
        "def detect_outliers(column):\n",
        "    # Cek apakah kolom memiliki tipe data numerik\n",
        "    if pd.api.types.is_numeric_dtype(column):\n",
        "        Q1 = column.quantile(0.25)\n",
        "        Q3 = column.quantile(0.75)\n",
        "        IQR = Q3 - Q1\n",
        "\n",
        "        outliers = (column < (Q1 - 1.5 * IQR)) | (column > (Q3 + 1.5 * IQR))\n",
        "\n",
        "        percentage_outliers = outliers.sum() / len(column) * 100\n",
        "\n",
        "        return outliers, percentage_outliers\n",
        "    else:\n",
        "        return None, None\n",
        "\n",
        "for column in df.columns:\n",
        "    outliers, percentage_outliers = detect_outliers(df[column])\n",
        "\n",
        "    if outliers is not None and percentage_outliers is not None:\n",
        "        print(f\"Kolom '{column}':\")\n",
        "        print(f\"  - Jumlah outliers: {outliers.sum()}\")\n",
        "        print(f\"  - Persentase kehadiran outliers: {percentage_outliers:.2f}%\")\n",
        "        print()\n",
        "    else:\n",
        "        print(f\"Kolom '{column}' tidak berisi data numerik.\")"
      ],
      "metadata": {
        "colab": {
          "base_uri": "https://localhost:8080/"
        },
        "id": "z98B9teiMqmD",
        "outputId": "46a9b9bc-37ce-44ed-878e-a018e3c36099"
      },
      "execution_count": 9,
      "outputs": [
        {
          "output_type": "stream",
          "name": "stdout",
          "text": [
            "Kolom 'Accident_Index' tidak berisi data numerik.\n",
            "Kolom 'Accident Date' tidak berisi data numerik.\n",
            "Kolom 'Day_of_Week' tidak berisi data numerik.\n",
            "Kolom 'Junction_Control' tidak berisi data numerik.\n",
            "Kolom 'Junction_Detail' tidak berisi data numerik.\n",
            "Kolom 'Accident_Severity' tidak berisi data numerik.\n",
            "Kolom 'Latitude':\n",
            "  - Jumlah outliers: 0\n",
            "  - Persentase kehadiran outliers: 0.00%\n",
            "\n",
            "Kolom 'Light_Conditions' tidak berisi data numerik.\n",
            "Kolom 'Local_Authority_(District)' tidak berisi data numerik.\n",
            "Kolom 'Carriageway_Hazards' tidak berisi data numerik.\n",
            "Kolom 'Longitude':\n",
            "  - Jumlah outliers: 0\n",
            "  - Persentase kehadiran outliers: 0.00%\n",
            "\n",
            "Kolom 'Number_of_Casualties':\n",
            "  - Jumlah outliers: 15182\n",
            "  - Persentase kehadiran outliers: 23.34%\n",
            "\n",
            "Kolom 'Number_of_Vehicles':\n",
            "  - Jumlah outliers: 1213\n",
            "  - Persentase kehadiran outliers: 1.86%\n",
            "\n",
            "Kolom 'Police_Force' tidak berisi data numerik.\n",
            "Kolom 'Road_Surface_Conditions' tidak berisi data numerik.\n",
            "Kolom 'Road_Type' tidak berisi data numerik.\n",
            "Kolom 'Speed_limit':\n",
            "  - Jumlah outliers: 14848\n",
            "  - Persentase kehadiran outliers: 22.82%\n",
            "\n",
            "Kolom 'Time' tidak berisi data numerik.\n",
            "Kolom 'Urban_or_Rural_Area' tidak berisi data numerik.\n",
            "Kolom 'Weather_Conditions' tidak berisi data numerik.\n",
            "Kolom 'Vehicle_Type' tidak berisi data numerik.\n"
          ]
        }
      ]
    },
    {
      "cell_type": "markdown",
      "source": [
        "Berdasarkan hasil output, dapat disimpulkan sebagai berikut:\n",
        "\n",
        "1. Latitude dan Longitude\n",
        "- Tidak terdapat outliers pada kedua kolom ini, yang berarti distribusi data untuk koordinat lintang dan bujur cenderung homogen.\n",
        "\n",
        "2. Number_of_Casualties\n",
        "- Terdapat 15,182 outliers, atau sekitar 23.34% dari total data. Hal ini menunjukkan adanya kejadian kecelakaan dengan jumlah korban yang signifikan di luar batas yang dianggap wajar.\n",
        "\n",
        "3. Number_of_Vehicles\n",
        "- Terdapat 1,213 outliers, atau sekitar 1.86% dari total data. Meskipun jumlah outliers lebih rendah dibandingkan dengan kolom Number_of_Casualties, hal ini masih menunjukkan adanya kejadian kecelakaan dengan jumlah kendaraan yang signifikan di luar batas yang dianggap wajar.\n",
        "\n",
        "4. Speed_limit\n",
        "- Terdapat 14,848 outliers, atau sekitar 22.82% dari total data. Outliers pada kolom ini mungkin mencerminkan situasi di mana batas kecepatan tidak diindahkan atau terdapat kondisi jalan yang memungkinkan kendaraan untuk bergerak dengan kecepatan yang lebih tinggi dari biasanya.\n"
      ],
      "metadata": {
        "id": "R4kf7qOUMrDu"
      }
    },
    {
      "cell_type": "markdown",
      "source": [
        "###Duplicated Values"
      ],
      "metadata": {
        "id": "zQPLhLATMtDE"
      }
    },
    {
      "cell_type": "code",
      "source": [
        "duplicate_values = df.duplicated()\n",
        "\n",
        "print(\"Apakah Ada Nilai Duplikat pada Tiap Kolom:\")\n",
        "print(duplicate_values)"
      ],
      "metadata": {
        "colab": {
          "base_uri": "https://localhost:8080/"
        },
        "id": "W2tC_1B9MxAM",
        "outputId": "cc899902-11e9-41e3-91c6-4813a5036288"
      },
      "execution_count": 10,
      "outputs": [
        {
          "output_type": "stream",
          "name": "stdout",
          "text": [
            "Apakah Ada Nilai Duplikat pada Tiap Kolom:\n",
            "0        False\n",
            "1        False\n",
            "2        False\n",
            "3        False\n",
            "4        False\n",
            "         ...  \n",
            "65053    False\n",
            "65054    False\n",
            "65055    False\n",
            "65056    False\n",
            "65057    False\n",
            "Length: 65058, dtype: bool\n"
          ]
        }
      ]
    },
    {
      "cell_type": "markdown",
      "source": [
        "Berdasarkan hasil output dari data duplicated values di atas adalah Tidak ada nilai yang sama atau duplikat pada setiap baris (indeks) dari DataFrame. Setiap baris memiliki nilai yang unik, yang menunjukkan bahwa tidak ada duplikat dalam DataFrame ini.\n",
        "\n",
        "\n",
        "\n",
        "\n"
      ],
      "metadata": {
        "id": "5u4pJ3JvMxXR"
      }
    },
    {
      "cell_type": "markdown",
      "source": [
        "###Inconsistent Values / Noise (Optional)"
      ],
      "metadata": {
        "id": "OlY1xJpLM3Vv"
      }
    },
    {
      "cell_type": "code",
      "source": [
        "for column in df.columns:\n",
        "    inconsistent_values = []\n",
        "    for value in df[column]:\n",
        "        if not pd.api.types.is_numeric_dtype(df[column].dtype):\n",
        "            if not pd.api.types.is_string_dtype(df[column].dtype):\n",
        "                inconsistent_values.append(value)\n",
        "        else:\n",
        "            if pd.isna(value):\n",
        "                inconsistent_values.append(value)\n",
        "    num_inconsistent = len(inconsistent_values)\n",
        "\n",
        "    print(f\"Kolom '{column}':\")\n",
        "    if num_inconsistent > 0:\n",
        "        print(f\"  - Terdapat {num_inconsistent} nilai inkonsisten/noise: {inconsistent_values}\")\n",
        "    else:\n",
        "        print(\"  - Tidak ada nilai inkonsisten/noise.\")"
      ],
      "metadata": {
        "colab": {
          "base_uri": "https://localhost:8080/"
        },
        "id": "FpmWsHabM6UI",
        "outputId": "64dbffbe-fab8-4228-a975-733267236dae"
      },
      "execution_count": 12,
      "outputs": [
        {
          "output_type": "stream",
          "name": "stdout",
          "text": [
            "Kolom 'Accident_Index':\n",
            "  - Tidak ada nilai inkonsisten/noise.\n",
            "Kolom 'Accident Date':\n",
            "  - Tidak ada nilai inkonsisten/noise.\n",
            "Kolom 'Day_of_Week':\n",
            "  - Tidak ada nilai inkonsisten/noise.\n",
            "Kolom 'Junction_Control':\n",
            "  - Tidak ada nilai inkonsisten/noise.\n",
            "Kolom 'Junction_Detail':\n",
            "  - Tidak ada nilai inkonsisten/noise.\n",
            "Kolom 'Accident_Severity':\n",
            "  - Tidak ada nilai inkonsisten/noise.\n",
            "Kolom 'Latitude':\n",
            "  - Tidak ada nilai inkonsisten/noise.\n",
            "Kolom 'Light_Conditions':\n",
            "  - Tidak ada nilai inkonsisten/noise.\n",
            "Kolom 'Local_Authority_(District)':\n",
            "  - Tidak ada nilai inkonsisten/noise.\n",
            "Kolom 'Carriageway_Hazards':\n",
            "  - Tidak ada nilai inkonsisten/noise.\n",
            "Kolom 'Longitude':\n",
            "  - Tidak ada nilai inkonsisten/noise.\n",
            "Kolom 'Number_of_Casualties':\n",
            "  - Tidak ada nilai inkonsisten/noise.\n",
            "Kolom 'Number_of_Vehicles':\n",
            "  - Tidak ada nilai inkonsisten/noise.\n",
            "Kolom 'Police_Force':\n",
            "  - Tidak ada nilai inkonsisten/noise.\n",
            "Kolom 'Road_Surface_Conditions':\n",
            "  - Tidak ada nilai inkonsisten/noise.\n",
            "Kolom 'Road_Type':\n",
            "  - Tidak ada nilai inkonsisten/noise.\n",
            "Kolom 'Speed_limit':\n",
            "  - Terdapat 1 nilai inkonsisten/noise: [nan]\n",
            "Kolom 'Time':\n",
            "  - Tidak ada nilai inkonsisten/noise.\n",
            "Kolom 'Urban_or_Rural_Area':\n",
            "  - Tidak ada nilai inkonsisten/noise.\n",
            "Kolom 'Weather_Conditions':\n",
            "  - Tidak ada nilai inkonsisten/noise.\n",
            "Kolom 'Vehicle_Type':\n",
            "  - Tidak ada nilai inkonsisten/noise.\n"
          ]
        }
      ]
    },
    {
      "cell_type": "markdown",
      "source": [
        "Berdasarkan hasil diatas dapat disimpulkan sebagai berikut:\n",
        "\n",
        "Sebagian besar kolom dalam dataset tidak memiliki nilai yang inkonsisten atau noise. Hal ini menunjukkan bahwa data dalam kolom-kolom tersebut relatif bersih dan dapat diandalkan untuk analisis lebih lanjut. Namun, Terdapat 1 nilai yang inkonsisten atau noise pada kolom 'Speed_limit', yaitu nilai nan (not a number). Nilai ini mungkin mewakili kegagalan dalam pengumpulan data atau pengisian data yang tidak lengkap."
      ],
      "metadata": {
        "id": "unURw1ZYM61u"
      }
    }
  ]
}