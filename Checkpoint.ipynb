{
  "nbformat": 4,
  "nbformat_minor": 0,
  "metadata": {
    "colab": {
      "provenance": [],
      "authorship_tag": "ABX9TyOo/l/Ypy3Uz4iPfZZra9nl",
      "include_colab_link": true
    },
    "kernelspec": {
      "name": "python3",
      "display_name": "Python 3"
    },
    "language_info": {
      "name": "python"
    }
  },
  "cells": [
    {
      "cell_type": "markdown",
      "metadata": {
        "id": "view-in-github",
        "colab_type": "text"
      },
      "source": [
        "<a href=\"https://colab.research.google.com/github/Anza2222/PPADB-Checkpoint/blob/main/Checkpoint.ipynb\" target=\"_parent\"><img src=\"https://colab.research.google.com/assets/colab-badge.svg\" alt=\"Open In Colab\"/></a>"
      ]
    },
    {
      "cell_type": "markdown",
      "source": [
        "#Car Accident Dataset"
      ],
      "metadata": {
        "id": "bdz38X1yC3-T"
      }
    },
    {
      "cell_type": "markdown",
      "source": [
        "##Business Understanding"
      ],
      "metadata": {
        "id": "o3cmzO5RDFFj"
      }
    },
    {
      "cell_type": "markdown",
      "source": [
        "Business Objective"
      ],
      "metadata": {
        "id": "OZdV3zLKD26T"
      }
    },
    {
      "cell_type": "markdown",
      "source": [
        "Assess Situation"
      ],
      "metadata": {
        "id": "jJbN-f9eDydM"
      }
    },
    {
      "cell_type": "markdown",
      "source": [
        "Data Mining Goals"
      ],
      "metadata": {
        "id": "V3zcFhtqDsHz"
      }
    },
    {
      "cell_type": "markdown",
      "source": [
        "Project Plan"
      ],
      "metadata": {
        "id": "ZBSJ2FktDqkz"
      }
    }
  ]
}