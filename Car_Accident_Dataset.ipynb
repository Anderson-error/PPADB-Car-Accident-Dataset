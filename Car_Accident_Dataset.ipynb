{
  "nbformat": 4,
  "nbformat_minor": 0,
  "metadata": {
    "colab": {
      "provenance": [],
      "mount_file_id": "1NaDQMxDhJ3pjoJnWdi7uJX3QmqNEoKR_",
      "authorship_tag": "ABX9TyPK9HAfRPGOJ0nGxAw477CN",
      "include_colab_link": true
    },
    "kernelspec": {
      "name": "python3",
      "display_name": "Python 3"
    },
    "language_info": {
      "name": "python"
    }
  },
  "cells": [
    {
      "cell_type": "markdown",
      "metadata": {
        "id": "view-in-github",
        "colab_type": "text"
      },
      "source": [
        "<a href=\"https://colab.research.google.com/github/Anza2222/PPADB-Car-Accident-Dataset/blob/main/Car_Accident_Dataset.ipynb\" target=\"_parent\"><img src=\"https://colab.research.google.com/assets/colab-badge.svg\" alt=\"Open In Colab\"/></a>"
      ]
    },
    {
      "cell_type": "markdown",
      "source": [
        "#**Analisis tingkat kecelakaan pada tahun 2021 di daerah perkotaan**"
      ],
      "metadata": {
        "id": "bdz38X1yC3-T"
      }
    },
    {
      "cell_type": "code",
      "source": [
        "import pandas as pd\n",
        "\n",
        "from google.colab import drive\n",
        "drive.mount('/content/drive')\n",
        "\n",
        "df=pd.read_csv(\"/content/drive/MyDrive/Road Accident Data.csv\")\n",
        "df"
      ],
      "metadata": {
        "id": "lgKY3cLyqXZw"
      },
      "execution_count": null,
      "outputs": []
    },
    {
      "cell_type": "markdown",
      "source": [
        "##**Business Understanding**"
      ],
      "metadata": {
        "id": "o3cmzO5RDFFj"
      }
    },
    {
      "cell_type": "markdown",
      "source": [
        "**Business Objective**\n",
        "\n",
        "Tujuan bisnis dari dataset ini adalah untuk secara menyeluruh menggali dan memahami faktor-faktor yang berperan dalam terjadinya kecelakaan jalan di daerah perkotaan selama tahun tersebut. Melalui analisis yang mendalam terhadap data kecelakaan yang terinci, dengan tujuan untuk menyediakan wawasan yang komprehensif kepada pemangku kepentingan terkait tentang faktor-faktor seperti tanggal kejadian, hari dalam seminggu, kendali persimpangan, tingkat keparahan kecelakaan, kondisi geografis, kondisi pencahayaan dan cuaca, serta detail kendaraan yang terlibat. Dengan pemahaman yang lebih baik tentang dinamika kecelakaan jalan yang terjadi selama tahun 2021, kami bertujuan untuk mendukung pengembangan strategi keselamatan jalan yang lebih efektif. Langkah-langkah yang diambil dari analisis ini diharapkan dapat mengarah pada inisiatif pencegahan yang lebih efisien dan program keselamatan jalan yang lebih cermat, dengan tujuan akhir mengurangi jumlah insiden kecelakaan di masa depan dan meningkatkan keselamatan bagi semua pengguna jalan."
      ],
      "metadata": {
        "id": "LcWYxd0M5eFF"
      }
    },
    {
      "cell_type": "markdown",
      "source": [
        "**Assess Situation**\n",
        "\n",
        "Situasi bisnis yang mendasari dari analisis ini adalah Kurangnya Kepedulian Pengemudi akan Keselamatan Pengemudi di wilayah perkotaan menunjukkan tingkat kesadaran yang rendah akan pentingnya keselamatan di jalan raya, kemudian Kondisi Jalan yang Minim akan Pencahayaan. Beberapa ruas jalan di wilayah perkotaan memiliki pencahayaan yang minim terutama pada malam hari Kondisi ini dapat menciptakan lingkungan yang kurang aman bagi pengguna jalan dan meningkatkan risiko kecelakaan terutama dalam kondisi cuaca buruk atau visibilitas rendah dan Kondisi Cuaca yang Ekstrem di Wilayah perkotaan rentan terhadap kondisi cuaca ekstrem, seperti hujan deras, kabut tebal, atau salju. Kondisi cuaca yang buruk dapat menyebabkan jalan menjadi licin dan mempengaruhi visibilitas."
      ],
      "metadata": {
        "id": "jJbN-f9eDydM"
      }
    },
    {
      "cell_type": "markdown",
      "source": [
        "**Data Mining Goals**\n",
        "\n",
        "Tujuan utama dari data mining adalah untuk mengidentifikasi pola-pola yang tidak terlihat dan hubungan yang signifikan dalam dataset kecelakaan. Data mining bertujuan untuk menggali informasi yang dapat membantu dalam memahami akar penyebab dari kecelakaan tersebut. Ini mencakup pencarian pola-pola seperti korelasi antara kondisi cuaca tertentu dengan tingkat kecelakaan, pola perilaku pengemudi yang berkontribusi terhadap insiden, atau kecenderungan tertentu dalam lokasi atau waktu kejadian kecelakaan."
      ],
      "metadata": {
        "id": "V3zcFhtqDsHz"
      }
    },
    {
      "cell_type": "markdown",
      "source": [
        "**Project Plan**\n",
        "\n",
        "Proyek ini akan dimulai dengan pengumpulan dan pembersihan data kecelakaan jalan tahun 2021 di wilayah perkotaan. Selanjutnya, akan dilakukan analisis data mining untuk mengidentifikasi pola-pola dan hubungan-hubungan antara variabel-variabel dalam dataset. Hasil analisis akan disajikan dalam laporan yang berisi temuan-temuan utama dan rekomendasi untuk langkah-langkah perbaikan keselamatan jalan. Rekomendasi akan dievaluasi dan diimplementasikan oleh pihak berwenang, dengan pemantauan terhadap dampaknya terhadap tingkat kecelakaan secara keseluruhan."
      ],
      "metadata": {
        "id": "ZBSJ2FktDqkz"
      }
    }
  ]
}